{
 "cells": [
  {
   "cell_type": "code",
   "execution_count": 5,
   "metadata": {},
   "outputs": [
    {
     "name": "stdout",
     "output_type": "stream",
     "text": [
      "hello world\n"
     ]
    }
   ],
   "source": [
    "print(\"hello world\")"
   ]
  },
  {
   "cell_type": "markdown",
   "metadata": {},
   "source": [
    "# Pandas\n",
    "Basics CheatSheet"
   ]
  },
  {
   "cell_type": "markdown",
   "metadata": {},
   "source": [
    "#### 1. Firing up pandas"
   ]
  },
  {
   "cell_type": "code",
   "execution_count": null,
   "metadata": {},
   "outputs": [],
   "source": [
    "import pandas as pd "
   ]
  },
  {
   "cell_type": "markdown",
   "metadata": {},
   "source": [
    "#### 2. Object Creation"
   ]
  },
  {
   "cell_type": "code",
   "execution_count": 10,
   "metadata": {},
   "outputs": [
    {
     "name": "stdout",
     "output_type": "stream",
     "text": [
      "0    1\n",
      "1    2\n",
      "2    3\n",
      "3    r\n",
      "4    5\n",
      "dtype: object\n"
     ]
    }
   ],
   "source": [
    "import pandas as pd\n",
    "s = pd.Series([1,2,3,'r',5])\n",
    "print(s)"
   ]
  },
  {
   "cell_type": "markdown",
   "metadata": {},
   "source": [
    "#### 3. Getting data from csv file"
   ]
  },
  {
   "cell_type": "code",
   "execution_count": 12,
   "metadata": {},
   "outputs": [],
   "source": [
    "import pandas as pd \n",
    "data = pd.read_csv(path)"
   ]
  },
  {
   "cell_type": "markdown",
   "metadata": {},
   "source": [
    "#### 4. Plotting using matplotlib"
   ]
  },
  {
   "cell_type": "code",
   "execution_count": 16,
   "metadata": {},
   "outputs": [
    {
     "name": "stdout",
     "output_type": "stream",
     "text": [
      "2000-01-01    1.087067\n",
      "2000-01-02    0.139467\n",
      "2000-01-03   -0.372492\n",
      "2000-01-04   -0.708790\n",
      "2000-01-05   -1.165125\n",
      "2000-01-06    0.339223\n",
      "2000-01-07   -0.753755\n",
      "2000-01-08   -0.894576\n",
      "2000-01-09   -2.625153\n",
      "2000-01-10   -0.828367\n",
      "2000-01-11   -1.475894\n",
      "2000-01-12    0.019396\n",
      "2000-01-13    0.533878\n",
      "2000-01-14   -1.717001\n",
      "2000-01-15    1.015599\n",
      "2000-01-16    0.605437\n",
      "2000-01-17    0.150057\n",
      "2000-01-18   -0.788673\n",
      "2000-01-19    0.315207\n",
      "2000-01-20   -0.399708\n",
      "2000-01-21   -0.409240\n",
      "2000-01-22    0.150307\n",
      "2000-01-23   -1.055475\n",
      "2000-01-24    0.177213\n",
      "2000-01-25   -1.212785\n",
      "2000-01-26    0.657965\n",
      "2000-01-27   -1.069563\n",
      "2000-01-28    1.460011\n",
      "2000-01-29   -1.263525\n",
      "2000-01-30    0.238380\n",
      "                ...   \n",
      "2002-08-28   -2.074350\n",
      "2002-08-29   -0.316928\n",
      "2002-08-30   -1.279034\n",
      "2002-08-31   -0.590642\n",
      "2002-09-01   -0.799017\n",
      "2002-09-02    0.017439\n",
      "2002-09-03   -0.009063\n",
      "2002-09-04   -0.267125\n",
      "2002-09-05    1.667643\n",
      "2002-09-06   -0.018025\n",
      "2002-09-07   -0.530821\n",
      "2002-09-08    0.364620\n",
      "2002-09-09   -0.432823\n",
      "2002-09-10   -0.643368\n",
      "2002-09-11   -1.434671\n",
      "2002-09-12   -1.393549\n",
      "2002-09-13   -0.660974\n",
      "2002-09-14   -2.370364\n",
      "2002-09-15   -0.088443\n",
      "2002-09-16    0.660533\n",
      "2002-09-17   -0.412654\n",
      "2002-09-18   -1.285587\n",
      "2002-09-19    0.540285\n",
      "2002-09-20    1.478675\n",
      "2002-09-21   -0.041126\n",
      "2002-09-22   -0.012446\n",
      "2002-09-23    0.180145\n",
      "2002-09-24    0.262394\n",
      "2002-09-25   -0.300324\n",
      "2002-09-26    0.242851\n",
      "Freq: D, Length: 1000, dtype: float64\n"
     ]
    },
    {
     "data": {
      "text/plain": [
       "<matplotlib.axes._subplots.AxesSubplot at 0x1a7f10df9b0>"
      ]
     },
     "execution_count": 16,
     "metadata": {},
     "output_type": "execute_result"
    },
    {
     "data": {
      "image/png": "[encoded data removed]",
      "text/plain": [
       "<Figure size 432x288 with 1 Axes>"
      ]
     },
     "metadata": {},
     "output_type": "display_data"
    }
   ],
   "source": [
    "import pandas as pd\n",
    "import matplotlib as mt\n",
    "import numpy as np\n",
    "ts = pd.Series(np.random.randn(1000), index=pd.date_range('1/1/2000', periods=1000)) # generating random data to fit the graph\n",
    "print(ts)\n",
    "ts = ts.cumsum() #cumulative sum https://en.wikipedia.org/wiki/CUSUM sum of all the values of sales/time/running anything\n",
    "ts.plot()\n",
    "\n",
    "\n",
    "\n"
   ]
  },
  {
   "cell_type": "markdown",
   "metadata": {},
   "source": [
    "#### 5. Making a data frame"
   ]
  },
  {
   "cell_type": "code",
   "execution_count": 18,
   "metadata": {},
   "outputs": [
    {
     "name": "stdout",
     "output_type": "stream",
     "text": [
      "   0  1  2   3   4   5     6     7\n",
      "0  1  2  3   4   5   6   NaN   NaN\n",
      "1  7  8  9  10  11  12  13.0  14.0\n"
     ]
    }
   ],
   "source": [
    "import pandas as pd\n",
    "lst = [[1,2,3,4,5,6],[7,8,9,10,11,12,13,14]]\n",
    "df = pd.DataFrame(lst)\n",
    "print(df)"
   ]
  },
  {
   "cell_type": "markdown",
   "metadata": {},
   "source": [
    "#### 6. Printing selected Columns\n",
    "Each row and coloumns are called as \"axis\""
   ]
  },
  {
   "cell_type": "code",
   "execution_count": 20,
   "metadata": {},
   "outputs": [
    {
     "name": "stdout",
     "output_type": "stream",
     "text": [
      "  First Name Last Name        Country  age\n",
      "0        Bob     Smith  United States   24\n",
      "1      Alice  Williams         Canada   23\n",
      "2    Malcolm      Jone        England   22\n",
      "3      Felix     Brown            USA   23\n",
      "4       Alex    Cooper         Poland   23\n",
      "5        Tod  Campbell  United States   22\n",
      "6      Derek      Ward    Switzerland   25\n",
      "0    United States\n",
      "1           Canada\n",
      "2          England\n",
      "3              USA\n",
      "4           Poland\n",
      "5    United States\n",
      "6      Switzerland\n",
      "Name: Country, dtype: object\n"
     ]
    }
   ],
   "source": [
    "import pandas as pd\n",
    "data = pd.read_csv(\"data/people-example.csv\")\n",
    "print(data)\n",
    "#creating a data frame\n",
    "df = pd.DataFrame(data= data)\n",
    "print(df['Country'])"
   ]
  },
  {
   "cell_type": "code",
   "execution_count": null,
   "metadata": {},
   "outputs": [],
   "source": []
  }
 ],
 "metadata": {
  "kernelspec": {
   "display_name": "Python 3",
   "language": "python",
   "name": "python3"
  },
  "language_info": {
   "codemirror_mode": {
    "name": "ipython",
    "version": 3
   },
   "file_extension": ".py",
   "mimetype": "text/x-python",
   "name": "python",
   "nbconvert_exporter": "python",
   "pygments_lexer": "ipython3",
   "version": "3.6.5rc1"
  }
 },
 "nbformat": 4,
 "nbformat_minor": 2
}
